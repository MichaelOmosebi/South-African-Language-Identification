{
 "cells": [
  {
   "cell_type": "markdown",
   "id": "a39e2971",
   "metadata": {},
   "source": [
    "# EDSA 2022 Classification Hackathon\n",
    "\n",
    "### South African Language Identification"
   ]
  },
  {
   "cell_type": "markdown",
   "id": "196480c2",
   "metadata": {},
   "source": [
    "© Explore Data Science Academy (Accelerator)\n",
    "\n",
    "# By ``Michael Omosebi``"
   ]
  },
  {
   "cell_type": "markdown",
   "id": "8f25a058",
   "metadata": {},
   "source": [
    "# Introduction\n",
    "\n",
    "South Africa is a multicultural society that is characterised by its rich linguistic diversity, with eleven(11) official languages. Most South Africans are multilingual and able to speak at least two or more of the official languages.\n",
    "\n",
    "As systems and devices in South-Africa communicate in these multi-languages, in this challenge, we will take text which is in any of South Africa's 11 Official languages and identify which language the text is in.\n",
    "\n",
    "## Outline\n",
    "This challenge is structured as follows:\n",
    "\n",
    "- Expolatory Data Analysis\n",
    "- Data Cleaning/Engineering\n",
    "- Multi-class Classification with building some models\n",
    "- Hyperparameter tuning and classification with the best model"
   ]
  },
  {
   "cell_type": "code",
   "execution_count": 37,
   "id": "c6dddd68",
   "metadata": {},
   "outputs": [
    {
     "name": "stderr",
     "output_type": "stream",
     "text": [
      "COMET WARNING: Comet has disabled auto-logging functionality as it has been imported after the following ML modules: sklearn, xgboost. Metrics and hyperparameters can still be logged using comet_ml.log_metrics() and comet_ml.log_parameters()\n",
      "COMET WARNING: As you are running in a Jupyter environment, you will need to call `experiment.end()` when finished to ensure all metrics and code are logged before exiting.\n",
      "COMET INFO: Couldn't find a Git repository in 'C:\\\\Users\\\\Engr  Dasilva\\\\Videos\\\\EXPLORE\\\\EDSA\\\\Advanced Classification\\\\Predict Hackaton\\\\south-african-language-identification' nor in any parent directory. You can override where Comet is looking for a Git Patch by setting the configuration `COMET_GIT_DIRECTORY`\n",
      "COMET INFO: Experiment is live on comet.ml https://www.comet.ml/michaelomosebi/sa-lang-classification/9e8fb032e6da4eb49238a6cf933f774c\n",
      "\n"
     ]
    }
   ],
   "source": [
    "# import comet_to begin an experiment\n",
    "from comet_ml import Experiment\n",
    "\n",
    "# Creating an experiment with comet ☄ api key\n",
    "experiment = Experiment(\n",
    "    api_key=\"xftBfqGXxdHiGUbbfhpQGbAmN\",\n",
    "    project_name=\"sa-lang-classification\",\n",
    "    workspace=\"michaelomosebi\",\n",
    ")"
   ]
  },
  {
   "cell_type": "markdown",
   "id": "312f9875",
   "metadata": {},
   "source": [
    "### Imports"
   ]
  },
  {
   "cell_type": "code",
   "execution_count": 2,
   "id": "2f5a8ead",
   "metadata": {},
   "outputs": [
    {
     "name": "stderr",
     "output_type": "stream",
     "text": [
      "C:\\Users\\Engr  Dasilva\\anaconda3\\lib\\site-packages\\xgboost\\compat.py:36: FutureWarning: pandas.Int64Index is deprecated and will be removed from pandas in a future version. Use pandas.Index with the appropriate dtype instead.\n",
      "  from pandas import MultiIndex, Int64Index\n"
     ]
    }
   ],
   "source": [
    "#Importing all necessary libraries\n",
    "\n",
    "import pandas as pd\n",
    "import numpy as np\n",
    "import matplotlib.pyplot as plt\n",
    "%matplotlib inline\n",
    "from matplotlib.colors import ListedColormap\n",
    "from wordcloud import WordCloud\n",
    "\n",
    "from nltk.tokenize import word_tokenize, TreebankWordTokenizer\n",
    "import nltk\n",
    "from nltk.corpus import stopwords\n",
    "import string\n",
    "\n",
    "from sklearn.feature_extraction.text import CountVectorizer, TfidfVectorizer\n",
    "\n",
    "from sklearn.model_selection import cross_val_score\n",
    "from sklearn.model_selection import train_test_split\n",
    "from sklearn import metrics\n",
    "\n",
    "from sklearn.preprocessing import StandardScaler\n",
    "from sklearn.datasets import make_moons, make_circles, make_classification\n",
    "from sklearn.feature_selection import SelectKBest\n",
    "from sklearn.feature_selection import f_classif\n",
    "from sklearn.model_selection import GridSearchCV\n",
    "\n",
    "from xgboost import XGBClassifier\n",
    "from xgboost import XGBRFClassifier\n",
    "from sklearn.naive_bayes import GaussianNB\n",
    "from sklearn.naive_bayes import MultinomialNB\n",
    "from sklearn.neighbors import KNeighborsClassifier\n",
    "from sklearn.svm import SVC\n",
    "from sklearn.linear_model import LogisticRegression\n",
    "from sklearn.ensemble import RandomForestClassifier, AdaBoostClassifier"
   ]
  },
  {
   "cell_type": "markdown",
   "id": "7618fabb",
   "metadata": {},
   "source": [
    "### Loading Datasets"
   ]
  },
  {
   "cell_type": "code",
   "execution_count": 6,
   "id": "f8648784",
   "metadata": {},
   "outputs": [
    {
     "name": "stdout",
     "output_type": "stream",
     "text": [
      "First 5 rows of the train data\n"
     ]
    },
    {
     "data": {
      "text/html": [
       "<div>\n",
       "<style scoped>\n",
       "    .dataframe tbody tr th:only-of-type {\n",
       "        vertical-align: middle;\n",
       "    }\n",
       "\n",
       "    .dataframe tbody tr th {\n",
       "        vertical-align: top;\n",
       "    }\n",
       "\n",
       "    .dataframe thead th {\n",
       "        text-align: right;\n",
       "    }\n",
       "</style>\n",
       "<table border=\"1\" class=\"dataframe\">\n",
       "  <thead>\n",
       "    <tr style=\"text-align: right;\">\n",
       "      <th></th>\n",
       "      <th>lang_id</th>\n",
       "      <th>text</th>\n",
       "    </tr>\n",
       "  </thead>\n",
       "  <tbody>\n",
       "    <tr>\n",
       "      <th>32995</th>\n",
       "      <td>tsn</td>\n",
       "      <td>popo ya dipolateforomo tse ke go tlisa boetele...</td>\n",
       "    </tr>\n",
       "    <tr>\n",
       "      <th>32996</th>\n",
       "      <td>sot</td>\n",
       "      <td>modise mosadi na o ntse o sa utlwe hore thaban...</td>\n",
       "    </tr>\n",
       "    <tr>\n",
       "      <th>32997</th>\n",
       "      <td>eng</td>\n",
       "      <td>closing date for the submission of completed t...</td>\n",
       "    </tr>\n",
       "    <tr>\n",
       "      <th>32998</th>\n",
       "      <td>xho</td>\n",
       "      <td>nawuphina umntu ofunyenwe enetyala phantsi kwa...</td>\n",
       "    </tr>\n",
       "    <tr>\n",
       "      <th>32999</th>\n",
       "      <td>sot</td>\n",
       "      <td>mafapha a mang le ona a lokela ho etsa ditlale...</td>\n",
       "    </tr>\n",
       "  </tbody>\n",
       "</table>\n",
       "</div>"
      ],
      "text/plain": [
       "      lang_id                                               text\n",
       "32995     tsn  popo ya dipolateforomo tse ke go tlisa boetele...\n",
       "32996     sot  modise mosadi na o ntse o sa utlwe hore thaban...\n",
       "32997     eng  closing date for the submission of completed t...\n",
       "32998     xho  nawuphina umntu ofunyenwe enetyala phantsi kwa...\n",
       "32999     sot  mafapha a mang le ona a lokela ho etsa ditlale..."
      ]
     },
     "metadata": {},
     "output_type": "display_data"
    },
    {
     "name": "stdout",
     "output_type": "stream",
     "text": [
      "First 5 rows of the test data\n"
     ]
    },
    {
     "data": {
      "text/html": [
       "<div>\n",
       "<style scoped>\n",
       "    .dataframe tbody tr th:only-of-type {\n",
       "        vertical-align: middle;\n",
       "    }\n",
       "\n",
       "    .dataframe tbody tr th {\n",
       "        vertical-align: top;\n",
       "    }\n",
       "\n",
       "    .dataframe thead th {\n",
       "        text-align: right;\n",
       "    }\n",
       "</style>\n",
       "<table border=\"1\" class=\"dataframe\">\n",
       "  <thead>\n",
       "    <tr style=\"text-align: right;\">\n",
       "      <th></th>\n",
       "      <th>index</th>\n",
       "      <th>text</th>\n",
       "    </tr>\n",
       "  </thead>\n",
       "  <tbody>\n",
       "    <tr>\n",
       "      <th>5677</th>\n",
       "      <td>5678</td>\n",
       "      <td>You mark your ballot in private.</td>\n",
       "    </tr>\n",
       "    <tr>\n",
       "      <th>5678</th>\n",
       "      <td>5679</td>\n",
       "      <td>Ge o ka kgetha ka bowena go se šomiše Mofani k...</td>\n",
       "    </tr>\n",
       "    <tr>\n",
       "      <th>5679</th>\n",
       "      <td>5680</td>\n",
       "      <td>E Ka kopo etsa kgetho ya hao ka hloko, hobane ...</td>\n",
       "    </tr>\n",
       "    <tr>\n",
       "      <th>5680</th>\n",
       "      <td>5681</td>\n",
       "      <td>TB ke bokudi ba PMB, mme Morero o tla lefella ...</td>\n",
       "    </tr>\n",
       "    <tr>\n",
       "      <th>5681</th>\n",
       "      <td>5682</td>\n",
       "      <td>Vakatjhela iwebhusayidi yethu ku-www.</td>\n",
       "    </tr>\n",
       "  </tbody>\n",
       "</table>\n",
       "</div>"
      ],
      "text/plain": [
       "      index                                               text\n",
       "5677   5678                   You mark your ballot in private.\n",
       "5678   5679  Ge o ka kgetha ka bowena go se šomiše Mofani k...\n",
       "5679   5680  E Ka kopo etsa kgetho ya hao ka hloko, hobane ...\n",
       "5680   5681  TB ke bokudi ba PMB, mme Morero o tla lefella ...\n",
       "5681   5682              Vakatjhela iwebhusayidi yethu ku-www."
      ]
     },
     "metadata": {},
     "output_type": "display_data"
    }
   ],
   "source": [
    "#Loading the csv files to dataframe\n",
    "train_df = pd.read_csv('train_set.csv')\n",
    "test_df = pd.read_csv('test_set.csv')\n",
    "\n",
    "#Viewing a slice of the datframe\n",
    "print(\"First 5 rows of the train data\")\n",
    "display(train_df.tail())\n",
    "\n",
    "print('First 5 rows of the test data')\n",
    "display(test_df.tail())"
   ]
  },
  {
   "cell_type": "markdown",
   "id": "3a2f8c13",
   "metadata": {},
   "source": [
    "* The test data set is observed to have one extra column named 'index'"
   ]
  },
  {
   "cell_type": "markdown",
   "id": "4b1594cf",
   "metadata": {},
   "source": [
    "### Data Exploration"
   ]
  },
  {
   "cell_type": "code",
   "execution_count": 136,
   "id": "bce59fee",
   "metadata": {},
   "outputs": [
    {
     "name": "stdout",
     "output_type": "stream",
     "text": [
      "<class 'pandas.core.frame.DataFrame'>\n",
      "RangeIndex: 33000 entries, 0 to 32999\n",
      "Data columns (total 2 columns):\n",
      " #   Column   Non-Null Count  Dtype \n",
      "---  ------   --------------  ----- \n",
      " 0   lang_id  33000 non-null  object\n",
      " 1   text     33000 non-null  object\n",
      "dtypes: object(2)\n",
      "memory usage: 515.8+ KB\n",
      "None \n",
      "\n"
     ]
    }
   ],
   "source": [
    "#Info on train dataset\n",
    "print(train_df.info(), \"\\n\")"
   ]
  },
  {
   "cell_type": "markdown",
   "id": "2547c4d1",
   "metadata": {},
   "source": [
    "* Nice! No null values."
   ]
  },
  {
   "cell_type": "code",
   "execution_count": 137,
   "id": "29762f7e",
   "metadata": {},
   "outputs": [
    {
     "name": "stdout",
     "output_type": "stream",
     "text": [
      "         count unique                                                top  freq\n",
      "lang_id  33000     11                                                xho  3000\n",
      "text     33000  29948  ngokwesekhtjheni yomthetho ophathelene nalokhu...    17 \n",
      "\n"
     ]
    }
   ],
   "source": [
    "#Description on train dataset\n",
    "print(train_df.describe().T, \"\\n\")"
   ]
  },
  {
   "cell_type": "markdown",
   "id": "326115f0",
   "metadata": {},
   "source": [
    "* There are eleven unique language IDs as expected.\n",
    "* Some texts seem to have been repeated, as we have 29948 unique texts. This must have been during an operaion to balance the dataset provided."
   ]
  },
  {
   "cell_type": "code",
   "execution_count": 3,
   "id": "043b39da",
   "metadata": {},
   "outputs": [
    {
     "data": {
      "text/html": [
       "<style type=\"text/css\">\n",
       "#T_2e1ad_row0_col1, #T_2e1ad_row1_col1, #T_2e1ad_row2_col1, #T_2e1ad_row3_col1, #T_2e1ad_row4_col1, #T_2e1ad_row5_col1, #T_2e1ad_row6_col1, #T_2e1ad_row7_col1, #T_2e1ad_row8_col1, #T_2e1ad_row9_col1, #T_2e1ad_row10_col1 {\n",
       "  background-color: #f7fbff;\n",
       "  color: #000000;\n",
       "}\n",
       "</style>\n",
       "<table id=\"T_2e1ad\">\n",
       "  <thead>\n",
       "    <tr>\n",
       "      <th class=\"blank level0\" >&nbsp;</th>\n",
       "      <th id=\"T_2e1ad_level0_col0\" class=\"col_heading level0 col0\" >lang_id</th>\n",
       "      <th id=\"T_2e1ad_level0_col1\" class=\"col_heading level0 col1\" >text</th>\n",
       "    </tr>\n",
       "  </thead>\n",
       "  <tbody>\n",
       "    <tr>\n",
       "      <th id=\"T_2e1ad_level0_row0\" class=\"row_heading level0 row0\" >0</th>\n",
       "      <td id=\"T_2e1ad_row0_col0\" class=\"data row0 col0\" >afr</td>\n",
       "      <td id=\"T_2e1ad_row0_col1\" class=\"data row0 col1\" >3000</td>\n",
       "    </tr>\n",
       "    <tr>\n",
       "      <th id=\"T_2e1ad_level0_row1\" class=\"row_heading level0 row1\" >1</th>\n",
       "      <td id=\"T_2e1ad_row1_col0\" class=\"data row1 col0\" >eng</td>\n",
       "      <td id=\"T_2e1ad_row1_col1\" class=\"data row1 col1\" >3000</td>\n",
       "    </tr>\n",
       "    <tr>\n",
       "      <th id=\"T_2e1ad_level0_row2\" class=\"row_heading level0 row2\" >2</th>\n",
       "      <td id=\"T_2e1ad_row2_col0\" class=\"data row2 col0\" >nbl</td>\n",
       "      <td id=\"T_2e1ad_row2_col1\" class=\"data row2 col1\" >3000</td>\n",
       "    </tr>\n",
       "    <tr>\n",
       "      <th id=\"T_2e1ad_level0_row3\" class=\"row_heading level0 row3\" >3</th>\n",
       "      <td id=\"T_2e1ad_row3_col0\" class=\"data row3 col0\" >nso</td>\n",
       "      <td id=\"T_2e1ad_row3_col1\" class=\"data row3 col1\" >3000</td>\n",
       "    </tr>\n",
       "    <tr>\n",
       "      <th id=\"T_2e1ad_level0_row4\" class=\"row_heading level0 row4\" >4</th>\n",
       "      <td id=\"T_2e1ad_row4_col0\" class=\"data row4 col0\" >sot</td>\n",
       "      <td id=\"T_2e1ad_row4_col1\" class=\"data row4 col1\" >3000</td>\n",
       "    </tr>\n",
       "    <tr>\n",
       "      <th id=\"T_2e1ad_level0_row5\" class=\"row_heading level0 row5\" >5</th>\n",
       "      <td id=\"T_2e1ad_row5_col0\" class=\"data row5 col0\" >ssw</td>\n",
       "      <td id=\"T_2e1ad_row5_col1\" class=\"data row5 col1\" >3000</td>\n",
       "    </tr>\n",
       "    <tr>\n",
       "      <th id=\"T_2e1ad_level0_row6\" class=\"row_heading level0 row6\" >6</th>\n",
       "      <td id=\"T_2e1ad_row6_col0\" class=\"data row6 col0\" >tsn</td>\n",
       "      <td id=\"T_2e1ad_row6_col1\" class=\"data row6 col1\" >3000</td>\n",
       "    </tr>\n",
       "    <tr>\n",
       "      <th id=\"T_2e1ad_level0_row7\" class=\"row_heading level0 row7\" >7</th>\n",
       "      <td id=\"T_2e1ad_row7_col0\" class=\"data row7 col0\" >tso</td>\n",
       "      <td id=\"T_2e1ad_row7_col1\" class=\"data row7 col1\" >3000</td>\n",
       "    </tr>\n",
       "    <tr>\n",
       "      <th id=\"T_2e1ad_level0_row8\" class=\"row_heading level0 row8\" >8</th>\n",
       "      <td id=\"T_2e1ad_row8_col0\" class=\"data row8 col0\" >ven</td>\n",
       "      <td id=\"T_2e1ad_row8_col1\" class=\"data row8 col1\" >3000</td>\n",
       "    </tr>\n",
       "    <tr>\n",
       "      <th id=\"T_2e1ad_level0_row9\" class=\"row_heading level0 row9\" >9</th>\n",
       "      <td id=\"T_2e1ad_row9_col0\" class=\"data row9 col0\" >xho</td>\n",
       "      <td id=\"T_2e1ad_row9_col1\" class=\"data row9 col1\" >3000</td>\n",
       "    </tr>\n",
       "    <tr>\n",
       "      <th id=\"T_2e1ad_level0_row10\" class=\"row_heading level0 row10\" >10</th>\n",
       "      <td id=\"T_2e1ad_row10_col0\" class=\"data row10 col0\" >zul</td>\n",
       "      <td id=\"T_2e1ad_row10_col1\" class=\"data row10 col1\" >3000</td>\n",
       "    </tr>\n",
       "  </tbody>\n",
       "</table>\n"
      ],
      "text/plain": [
       "<pandas.io.formats.style.Styler at 0x202fcd33a60>"
      ]
     },
     "metadata": {},
     "output_type": "display_data"
    }
   ],
   "source": [
    "#Looking into the \n",
    "count = train_df.groupby(\"lang_id\").count()[\"text\"].reset_index().sort_values(by=\"lang_id\", ascending=True)\n",
    "display(count.style.background_gradient(cmap=\"Blues\"))"
   ]
  },
  {
   "cell_type": "markdown",
   "id": "ab9811c5",
   "metadata": {},
   "source": [
    "* Looks close to a perfectly balanced data to train with ! - All class have equal number of observations"
   ]
  },
  {
   "cell_type": "code",
   "execution_count": 136,
   "id": "5352a231",
   "metadata": {},
   "outputs": [
    {
     "data": {
      "image/png": "[encoded data removed]",
      "text/plain": [
       "<Figure size 504x504 with 1 Axes>"
      ]
     },
     "metadata": {
      "needs_background": "light"
     },
     "output_type": "display_data"
    }
   ],
   "source": [
    "#Display the most recurrent words across all observations in a wordcloud image\n",
    "full_text = \" \".join(train_df['text'])\n",
    "\n",
    "wc = WordCloud(background_color='black')\n",
    "img = wc.generate(full_text)\n",
    "plt.figure(figsize=(7,7))\n",
    "plt.imshow(img)\n",
    "plt.axis('off')\n",
    "plt.show()"
   ]
  },
  {
   "cell_type": "markdown",
   "id": "d70e5efe",
   "metadata": {},
   "source": [
    "* A lot of repeating single letter and double letter words. This insight will be applied during cleaning to remove words with less that 3 characters"
   ]
  },
  {
   "cell_type": "code",
   "execution_count": 131,
   "id": "3a90a4c7",
   "metadata": {},
   "outputs": [
    {
     "name": "stdout",
     "output_type": "stream",
     "text": [
      "mabalane wa khothe ya ndinganyiso' zwi amba mabalane wa khothe ya ndinganyiso o tholiwaho kana o nangiwaho u ya nga khethekanyo 17, yo vhalwaho na khethekanyo 31, yo katela na zwi.\n",
      "Khethululo zwi songo tea kha u. etshedza dzimbuelo, dzitshomedzo dzine dza tshimbilelana na ndindakhombo.\n",
      "Komiti ya Tshepetšo: E thuša BOT mo go netefatšeng tshepetšo e botse ya setlamo, bjale ka go kgoboketša ditefelo, ditefelo tša dikgopelo le tlhokomelo ya direkhoto tša leloko. Komiti gape e thuša BOT ka thekišo le kwalakwatšo.\n",
      "Indlu yowiso-mthetho yephondo ingaphumeza umgaqo-siseko wephondo okanye, apho kufunekayo, ingawutshintsha umgaqo-siseko wayo, ukuba, ubuncinane, isibini kwisithathu samalungu ayo avotela ukuwuvuma uMthetho oYilwayo wokwenjenjalo.\n",
      "Ngano dza tsiko.\n",
      "<fn>GOV-ZA.WQFlyer_afr.2010-03-25.af.txt</fn>\n",
      "Mfuwo, vukhongeri na tindzimi: Vaaki va nga tiphina hi mfuwo wa vona, va landzelela vukhongeri bya vona no tirhisa ririmi ra vona.\n",
      "Ukubonelela kunye nokukhusela ulimo kwiifama.\n",
      "Bakeng sa ho tswela pele ho ntlafatsa tshebeletso e fuwang bao ba leng mekgeng e sa sireletsehang ba jwalo ka mekaubere, basadi le batjha, re tla lekola botjha dibopeho tse fuweng thomo ya ho phetha mesebetsi ena mme re hlahlobe ditlhophiso tse e ka bang ke tsona tse tshwanetseng, ho kenyelletswa le tekolo ya dibopeho tsa mmuso e theilweng haholoholo bakeng sa ho shebana le ntshetsopele le matlafatso ya batjha.\n",
      "neetsweng mo Molaotheong le peomolao ya bosetšhaba.\n"
     ]
    }
   ],
   "source": [
    "#Check out a slice in the text lenght for each observation to determine what cleaning needs to be done.\n",
    "for text in test_df['text'][2000:2010]:\n",
    "    print(text)"
   ]
  },
  {
   "cell_type": "markdown",
   "id": "9419b877",
   "metadata": {},
   "source": [
    "##### Although the data looked clean enough at first glance, the following observations were made:\n",
    "\n",
    "- The text still contains numbers and special characters as seen above.\n",
    "- Some lines contain two or more languages. This will likely ```inhibit a 100% prediction accuracy```.\n",
    "- The local languages have compound words whose meaning may be affected by punctutaions cleaning.\n",
    "- Train data set is perfectly balanced"
   ]
  },
  {
   "cell_type": "markdown",
   "id": "1ef3efa6",
   "metadata": {},
   "source": [
    "## Data Preprocessing\n",
    "\n",
    "- The two datasets will be combined and preprocessed as one.\n",
    "- ...then, split after vectorizaion of selected best feautures; leading to training and validation"
   ]
  },
  {
   "cell_type": "code",
   "execution_count": 4,
   "id": "eb49b05f",
   "metadata": {},
   "outputs": [
    {
     "data": {
      "text/html": [
       "<div>\n",
       "<style scoped>\n",
       "    .dataframe tbody tr th:only-of-type {\n",
       "        vertical-align: middle;\n",
       "    }\n",
       "\n",
       "    .dataframe tbody tr th {\n",
       "        vertical-align: top;\n",
       "    }\n",
       "\n",
       "    .dataframe thead th {\n",
       "        text-align: right;\n",
       "    }\n",
       "</style>\n",
       "<table border=\"1\" class=\"dataframe\">\n",
       "  <thead>\n",
       "    <tr style=\"text-align: right;\">\n",
       "      <th></th>\n",
       "      <th>lang_id</th>\n",
       "      <th>text</th>\n",
       "    </tr>\n",
       "  </thead>\n",
       "  <tbody>\n",
       "    <tr>\n",
       "      <th>0</th>\n",
       "      <td>xho</td>\n",
       "      <td>umgaqo-siseko wenza amalungiselelo kumaziko ax...</td>\n",
       "    </tr>\n",
       "    <tr>\n",
       "      <th>1</th>\n",
       "      <td>xho</td>\n",
       "      <td>i-dha iya kuba nobulumko bokubeka umsebenzi na...</td>\n",
       "    </tr>\n",
       "    <tr>\n",
       "      <th>2</th>\n",
       "      <td>eng</td>\n",
       "      <td>the province of kwazulu-natal department of tr...</td>\n",
       "    </tr>\n",
       "    <tr>\n",
       "      <th>3</th>\n",
       "      <td>nso</td>\n",
       "      <td>o netefatša gore o ba file dilo ka moka tše le...</td>\n",
       "    </tr>\n",
       "    <tr>\n",
       "      <th>4</th>\n",
       "      <td>ven</td>\n",
       "      <td>khomishini ya ndinganyiso ya mbeu yo ewa maana...</td>\n",
       "    </tr>\n",
       "  </tbody>\n",
       "</table>\n",
       "</div>"
      ],
      "text/plain": [
       "  lang_id                                               text\n",
       "0     xho  umgaqo-siseko wenza amalungiselelo kumaziko ax...\n",
       "1     xho  i-dha iya kuba nobulumko bokubeka umsebenzi na...\n",
       "2     eng  the province of kwazulu-natal department of tr...\n",
       "3     nso  o netefatša gore o ba file dilo ka moka tše le...\n",
       "4     ven  khomishini ya ndinganyiso ya mbeu yo ewa maana..."
      ]
     },
     "execution_count": 4,
     "metadata": {},
     "output_type": "execute_result"
    }
   ],
   "source": [
    "#Creating a worked dataframe from the train data that can be concatenated with the train data\n",
    "#By dropping the extra column in the test dataset\n",
    "test_df1 = test_df.drop('index', axis=1, inplace=False)\n",
    "\n",
    "#Concatenate both datasets to one for once-through processing/cleaning\n",
    "df = pd.concat([train_df, test_df1])\n",
    "df.head()"
   ]
  },
  {
   "cell_type": "code",
   "execution_count": 5,
   "id": "c9a2fbb4",
   "metadata": {},
   "outputs": [],
   "source": [
    "#Creating a function to remove numbers and punctuations\n",
    "\n",
    "punc_numbers = string.punctuation + '0123456789'\n",
    "\n",
    "def remove_punctuation(post):\n",
    "  \"\"\"This function returns a string item that has no punctuation marks and numbers.\"\"\"\n",
    "  punc_numbers = string.punctuation + '0123456789'\n",
    "  return ''.join([l for l in post if l not in punc_numbers])"
   ]
  },
  {
   "cell_type": "code",
   "execution_count": 7,
   "id": "7e3ddfa7",
   "metadata": {},
   "outputs": [],
   "source": [
    "#removing punctuation\n",
    "df['text'] = df['text'].apply(remove_punctuation)"
   ]
  },
  {
   "cell_type": "code",
   "execution_count": 8,
   "id": "6648f232",
   "metadata": {},
   "outputs": [],
   "source": [
    "#tokenizing\n",
    "tokenizer = TreebankWordTokenizer()\n",
    "\n",
    "#tokenizing train data\n",
    "df['text'] = train_df['text'].apply(tokenizer.tokenize)"
   ]
  },
  {
   "cell_type": "code",
   "execution_count": 9,
   "id": "ea9b0eec",
   "metadata": {},
   "outputs": [],
   "source": [
    "#removing stop words\n",
    "eng_stop = stopwords.words('english')\n",
    "\n",
    "#removing stop words in data\n",
    "df['text'] = df['text'].apply(lambda x: ' '.join([item for item in x if item not in eng_stop]))"
   ]
  },
  {
   "cell_type": "code",
   "execution_count": 163,
   "id": "983ef919",
   "metadata": {},
   "outputs": [
    {
     "data": {
      "text/html": [
       "<div>\n",
       "<style scoped>\n",
       "    .dataframe tbody tr th:only-of-type {\n",
       "        vertical-align: middle;\n",
       "    }\n",
       "\n",
       "    .dataframe tbody tr th {\n",
       "        vertical-align: top;\n",
       "    }\n",
       "\n",
       "    .dataframe thead th {\n",
       "        text-align: right;\n",
       "    }\n",
       "</style>\n",
       "<table border=\"1\" class=\"dataframe\">\n",
       "  <thead>\n",
       "    <tr style=\"text-align: right;\">\n",
       "      <th></th>\n",
       "      <th>lang_id</th>\n",
       "      <th>text</th>\n",
       "    </tr>\n",
       "  </thead>\n",
       "  <tbody>\n",
       "    <tr>\n",
       "      <th>5677</th>\n",
       "      <td>NaN</td>\n",
       "      <td>umthethosisekelo ugunyaza itjhuguluko ebujamen...</td>\n",
       "    </tr>\n",
       "    <tr>\n",
       "      <th>5678</th>\n",
       "      <td>NaN</td>\n",
       "      <td>dikhampani kapa kgwebo tsa motho ya mong di lo...</td>\n",
       "    </tr>\n",
       "    <tr>\n",
       "      <th>5679</th>\n",
       "      <td>NaN</td>\n",
       "      <td>dingaka di dumela hore motho ya tsubang dithet...</td>\n",
       "    </tr>\n",
       "    <tr>\n",
       "      <th>5680</th>\n",
       "      <td>NaN</td>\n",
       "      <td>tumelo yeo e fiwago ka ntle ga afrika borwa e ...</td>\n",
       "    </tr>\n",
       "    <tr>\n",
       "      <th>5681</th>\n",
       "      <td>NaN</td>\n",
       "      <td>bouto e tee go dihektara tše dingwe le tše din...</td>\n",
       "    </tr>\n",
       "  </tbody>\n",
       "</table>\n",
       "</div>"
      ],
      "text/plain": [
       "     lang_id                                               text\n",
       "5677     NaN  umthethosisekelo ugunyaza itjhuguluko ebujamen...\n",
       "5678     NaN  dikhampani kapa kgwebo tsa motho ya mong di lo...\n",
       "5679     NaN  dingaka di dumela hore motho ya tsubang dithet...\n",
       "5680     NaN  tumelo yeo e fiwago ka ntle ga afrika borwa e ...\n",
       "5681     NaN  bouto e tee go dihektara tše dingwe le tše din..."
      ]
     },
     "execution_count": 163,
     "metadata": {},
     "output_type": "execute_result"
    }
   ],
   "source": [
    "#Taking a look at the data\n",
    "df.tail()"
   ]
  },
  {
   "cell_type": "code",
   "execution_count": 10,
   "id": "7c23de92",
   "metadata": {},
   "outputs": [
    {
     "data": {
      "text/plain": [
       "TfidfVectorizer(min_df=5)"
      ]
     },
     "execution_count": 10,
     "metadata": {},
     "output_type": "execute_result"
    }
   ],
   "source": [
    "#Vectorizing\n",
    "vector = TfidfVectorizer(min_df=5)\n",
    "\n",
    "#Vectorizing train data\n",
    "vector.fit(train_df['text'])"
   ]
  },
  {
   "cell_type": "code",
   "execution_count": 11,
   "id": "4263f156",
   "metadata": {},
   "outputs": [],
   "source": [
    "train_tfidf = vector.transform(train_df['text'])\n",
    "test_tfidf = vector.transform(test_df['text'])"
   ]
  },
  {
   "cell_type": "code",
   "execution_count": 12,
   "id": "06e83e02",
   "metadata": {},
   "outputs": [
    {
     "data": {
      "text/plain": [
       "(33000, 24460)"
      ]
     },
     "metadata": {},
     "output_type": "display_data"
    },
    {
     "data": {
      "text/plain": [
       "(5682, 24460)"
      ]
     },
     "metadata": {},
     "output_type": "display_data"
    }
   ],
   "source": [
    "display(train_tfidf.shape)\n",
    "display(test_tfidf.shape)"
   ]
  },
  {
   "cell_type": "code",
   "execution_count": 13,
   "id": "1e82dd47",
   "metadata": {},
   "outputs": [],
   "source": [
    "#Transform vectorized train data to a dataframe\n",
    "vectorized_train_df = pd.DataFrame(train_tfidf.todense(), columns=vector.get_feature_names_out())\n",
    "\n",
    "#Transform vectorized test data to a dataframe\n",
    "vectorized_test_df = pd.DataFrame(test_tfidf.todense(), columns=vector.get_feature_names_out())"
   ]
  },
  {
   "cell_type": "code",
   "execution_count": 168,
   "id": "67b7479f",
   "metadata": {},
   "outputs": [
    {
     "data": {
      "text/html": [
       "<div>\n",
       "<style scoped>\n",
       "    .dataframe tbody tr th:only-of-type {\n",
       "        vertical-align: middle;\n",
       "    }\n",
       "\n",
       "    .dataframe tbody tr th {\n",
       "        vertical-align: top;\n",
       "    }\n",
       "\n",
       "    .dataframe thead th {\n",
       "        text-align: right;\n",
       "    }\n",
       "</style>\n",
       "<table border=\"1\" class=\"dataframe\">\n",
       "  <thead>\n",
       "    <tr style=\"text-align: right;\">\n",
       "      <th></th>\n",
       "      <th>aa</th>\n",
       "      <th>aan</th>\n",
       "      <th>aanbeveel</th>\n",
       "      <th>aanbevelings</th>\n",
       "      <th>aanbied</th>\n",
       "      <th>aandag</th>\n",
       "      <th>aandeel</th>\n",
       "      <th>aandui</th>\n",
       "      <th>aanduiding</th>\n",
       "      <th>aangaande</th>\n",
       "      <th>...</th>\n",
       "      <th>ṱhuṱhuwedzo</th>\n",
       "      <th>ṱo</th>\n",
       "      <th>ṱola</th>\n",
       "      <th>ṱoḓa</th>\n",
       "      <th>ṱoḓea</th>\n",
       "      <th>ṱoḓou</th>\n",
       "      <th>ṱun</th>\n",
       "      <th>ṱuwa</th>\n",
       "      <th>ṱuṱuwedza</th>\n",
       "      <th>ṱuṱuwedzwa</th>\n",
       "    </tr>\n",
       "  </thead>\n",
       "  <tbody>\n",
       "    <tr>\n",
       "      <th>0</th>\n",
       "      <td>0.0</td>\n",
       "      <td>0.0</td>\n",
       "      <td>0.0</td>\n",
       "      <td>0.0</td>\n",
       "      <td>0.0</td>\n",
       "      <td>0.0</td>\n",
       "      <td>0.0</td>\n",
       "      <td>0.0</td>\n",
       "      <td>0.0</td>\n",
       "      <td>0.0</td>\n",
       "      <td>...</td>\n",
       "      <td>0.0</td>\n",
       "      <td>0.0</td>\n",
       "      <td>0.0</td>\n",
       "      <td>0.0</td>\n",
       "      <td>0.0</td>\n",
       "      <td>0.0</td>\n",
       "      <td>0.0</td>\n",
       "      <td>0.0</td>\n",
       "      <td>0.0</td>\n",
       "      <td>0.0</td>\n",
       "    </tr>\n",
       "    <tr>\n",
       "      <th>1</th>\n",
       "      <td>0.0</td>\n",
       "      <td>0.0</td>\n",
       "      <td>0.0</td>\n",
       "      <td>0.0</td>\n",
       "      <td>0.0</td>\n",
       "      <td>0.0</td>\n",
       "      <td>0.0</td>\n",
       "      <td>0.0</td>\n",
       "      <td>0.0</td>\n",
       "      <td>0.0</td>\n",
       "      <td>...</td>\n",
       "      <td>0.0</td>\n",
       "      <td>0.0</td>\n",
       "      <td>0.0</td>\n",
       "      <td>0.0</td>\n",
       "      <td>0.0</td>\n",
       "      <td>0.0</td>\n",
       "      <td>0.0</td>\n",
       "      <td>0.0</td>\n",
       "      <td>0.0</td>\n",
       "      <td>0.0</td>\n",
       "    </tr>\n",
       "    <tr>\n",
       "      <th>2</th>\n",
       "      <td>0.0</td>\n",
       "      <td>0.0</td>\n",
       "      <td>0.0</td>\n",
       "      <td>0.0</td>\n",
       "      <td>0.0</td>\n",
       "      <td>0.0</td>\n",
       "      <td>0.0</td>\n",
       "      <td>0.0</td>\n",
       "      <td>0.0</td>\n",
       "      <td>0.0</td>\n",
       "      <td>...</td>\n",
       "      <td>0.0</td>\n",
       "      <td>0.0</td>\n",
       "      <td>0.0</td>\n",
       "      <td>0.0</td>\n",
       "      <td>0.0</td>\n",
       "      <td>0.0</td>\n",
       "      <td>0.0</td>\n",
       "      <td>0.0</td>\n",
       "      <td>0.0</td>\n",
       "      <td>0.0</td>\n",
       "    </tr>\n",
       "    <tr>\n",
       "      <th>3</th>\n",
       "      <td>0.0</td>\n",
       "      <td>0.0</td>\n",
       "      <td>0.0</td>\n",
       "      <td>0.0</td>\n",
       "      <td>0.0</td>\n",
       "      <td>0.0</td>\n",
       "      <td>0.0</td>\n",
       "      <td>0.0</td>\n",
       "      <td>0.0</td>\n",
       "      <td>0.0</td>\n",
       "      <td>...</td>\n",
       "      <td>0.0</td>\n",
       "      <td>0.0</td>\n",
       "      <td>0.0</td>\n",
       "      <td>0.0</td>\n",
       "      <td>0.0</td>\n",
       "      <td>0.0</td>\n",
       "      <td>0.0</td>\n",
       "      <td>0.0</td>\n",
       "      <td>0.0</td>\n",
       "      <td>0.0</td>\n",
       "    </tr>\n",
       "    <tr>\n",
       "      <th>4</th>\n",
       "      <td>0.0</td>\n",
       "      <td>0.0</td>\n",
       "      <td>0.0</td>\n",
       "      <td>0.0</td>\n",
       "      <td>0.0</td>\n",
       "      <td>0.0</td>\n",
       "      <td>0.0</td>\n",
       "      <td>0.0</td>\n",
       "      <td>0.0</td>\n",
       "      <td>0.0</td>\n",
       "      <td>...</td>\n",
       "      <td>0.0</td>\n",
       "      <td>0.0</td>\n",
       "      <td>0.0</td>\n",
       "      <td>0.0</td>\n",
       "      <td>0.0</td>\n",
       "      <td>0.0</td>\n",
       "      <td>0.0</td>\n",
       "      <td>0.0</td>\n",
       "      <td>0.0</td>\n",
       "      <td>0.0</td>\n",
       "    </tr>\n",
       "  </tbody>\n",
       "</table>\n",
       "<p>5 rows × 24460 columns</p>\n",
       "</div>"
      ],
      "text/plain": [
       "    aa  aan  aanbeveel  aanbevelings  aanbied  aandag  aandeel  aandui  \\\n",
       "0  0.0  0.0        0.0           0.0      0.0     0.0      0.0     0.0   \n",
       "1  0.0  0.0        0.0           0.0      0.0     0.0      0.0     0.0   \n",
       "2  0.0  0.0        0.0           0.0      0.0     0.0      0.0     0.0   \n",
       "3  0.0  0.0        0.0           0.0      0.0     0.0      0.0     0.0   \n",
       "4  0.0  0.0        0.0           0.0      0.0     0.0      0.0     0.0   \n",
       "\n",
       "   aanduiding  aangaande  ...  ṱhuṱhuwedzo   ṱo  ṱola  ṱoḓa  ṱoḓea  ṱoḓou  \\\n",
       "0         0.0        0.0  ...          0.0  0.0   0.0   0.0    0.0    0.0   \n",
       "1         0.0        0.0  ...          0.0  0.0   0.0   0.0    0.0    0.0   \n",
       "2         0.0        0.0  ...          0.0  0.0   0.0   0.0    0.0    0.0   \n",
       "3         0.0        0.0  ...          0.0  0.0   0.0   0.0    0.0    0.0   \n",
       "4         0.0        0.0  ...          0.0  0.0   0.0   0.0    0.0    0.0   \n",
       "\n",
       "   ṱun  ṱuwa  ṱuṱuwedza  ṱuṱuwedzwa  \n",
       "0  0.0   0.0        0.0         0.0  \n",
       "1  0.0   0.0        0.0         0.0  \n",
       "2  0.0   0.0        0.0         0.0  \n",
       "3  0.0   0.0        0.0         0.0  \n",
       "4  0.0   0.0        0.0         0.0  \n",
       "\n",
       "[5 rows x 24460 columns]"
      ]
     },
     "execution_count": 168,
     "metadata": {},
     "output_type": "execute_result"
    }
   ],
   "source": [
    "vectorized_train_df.head()"
   ]
  },
  {
   "cell_type": "code",
   "execution_count": 14,
   "id": "05a39a71",
   "metadata": {},
   "outputs": [],
   "source": [
    "#Training dataset\n",
    "train_feat = vectorized_train_df[:len(train_df)]\n",
    "train_target = train_df['lang_id']\n",
    "\n",
    "#Test dataset\n",
    "test_features =  vectorized_test_df[:len(test_df):]"
   ]
  },
  {
   "cell_type": "code",
   "execution_count": 15,
   "id": "ccf58a8e",
   "metadata": {},
   "outputs": [],
   "source": [
    "X_train, X_test, y_train, y_test =train_test_split(train_feat, \n",
    "                                                   train_target, \n",
    "                                                   test_size=0.2, \n",
    "                                                   random_state=50)"
   ]
  },
  {
   "cell_type": "code",
   "execution_count": 16,
   "id": "ef774ae6",
   "metadata": {},
   "outputs": [],
   "source": [
    "# Set up selector, choosing score function and number of features to retain\n",
    "selector = SelectKBest(score_func=f_classif, k=21000)\n",
    "\n",
    "# Transform (i.e.: run selection on) the training data\n",
    "fit = selector.fit(X_train, y_train)\n",
    "\n",
    "#Selecting the Best k features from the train dataset\n",
    "X_train_kbest = X_train[X_train.columns[selector.get_support(indices=True)]]\n",
    "X_test_kbest = X_test[X_test.columns[selector.get_support(indices=True)]]"
   ]
  },
  {
   "cell_type": "code",
   "execution_count": 17,
   "id": "bbf50e1c",
   "metadata": {},
   "outputs": [],
   "source": [
    "#Select same columns for test dataset as above\n",
    "select_columns = X_test_kbest.columns\n",
    "cols = list(select_columns)\n",
    "\n",
    "#Selecting the Best k features from the test dataset\n",
    "test_features_kbest = test_features[cols]"
   ]
  },
  {
   "cell_type": "markdown",
   "id": "1d22094f",
   "metadata": {},
   "source": [
    "## Modelling"
   ]
  },
  {
   "cell_type": "markdown",
   "id": "11700021",
   "metadata": {},
   "source": [
    "Three models will be separately tried out and the best will be picked based in f1 score on the train and test predictions.\n",
    "\n",
    "- Logistic Regression\n",
    "- Gaussian Naive Bayes\n",
    "- Multinomial Naive Bayes"
   ]
  },
  {
   "cell_type": "code",
   "execution_count": 18,
   "id": "7b27646d",
   "metadata": {},
   "outputs": [
    {
     "name": "stderr",
     "output_type": "stream",
     "text": [
      "C:\\Users\\Engr  Dasilva\\anaconda3\\lib\\site-packages\\sklearn\\linear_model\\_logistic.py:814: ConvergenceWarning: lbfgs failed to converge (status=1):\n",
      "STOP: TOTAL NO. of ITERATIONS REACHED LIMIT.\n",
      "\n",
      "Increase the number of iterations (max_iter) or scale the data as shown in:\n",
      "    https://scikit-learn.org/stable/modules/preprocessing.html\n",
      "Please also refer to the documentation for alternative solver options:\n",
      "    https://scikit-learn.org/stable/modules/linear_model.html#logistic-regression\n",
      "  n_iter_i = _check_optimize_result(\n"
     ]
    }
   ],
   "source": [
    "#Train a Logistic regression model \n",
    "logreg = LogisticRegression(random_state=50)\n",
    "\n",
    "#Fitting\n",
    "logreg.fit(X_train_kbest, y_train)\n",
    "\n",
    "#Validate\n",
    "y_pred_test = logreg.predict(X_test_kbest)"
   ]
  },
  {
   "cell_type": "code",
   "execution_count": 21,
   "id": "65a74e79",
   "metadata": {},
   "outputs": [
    {
     "data": {
      "text/plain": [
       "0.9955900456772018"
      ]
     },
     "execution_count": 21,
     "metadata": {},
     "output_type": "execute_result"
    }
   ],
   "source": [
    "# Generate predictions from test data using Logistic regression model\n",
    "y_pred_LR = logreg.predict(test_features_kbest)\n",
    "\n",
    "#f1 score on train\n",
    "f1_score_LR = metrics.f1_score(y_test, y_pred_test, average='macro')\n",
    "f1_score_LR"
   ]
  },
  {
   "cell_type": "code",
   "execution_count": 24,
   "id": "ee2916c1",
   "metadata": {},
   "outputs": [],
   "source": [
    "#Train a Gaussian Naive Bayes model \n",
    "GNB = GaussianNB()\n",
    "\n",
    "#Fitting\n",
    "GNB.fit(X_train_kbest, y_train)\n",
    "\n",
    "#Validate\n",
    "y_pred_test_GNB = GNB.predict(X_test_kbest)"
   ]
  },
  {
   "cell_type": "code",
   "execution_count": 25,
   "id": "b2d7d9a9",
   "metadata": {},
   "outputs": [
    {
     "data": {
      "text/plain": [
       "0.9957338255089159"
      ]
     },
     "execution_count": 25,
     "metadata": {},
     "output_type": "execute_result"
    }
   ],
   "source": [
    "# Generate predictions from test data using Gaussian Naive Bayes model\n",
    "y_pred_test_GNB1 = GNB.predict(test_features_kbest)\n",
    "\n",
    "#f1 score on train\n",
    "f1_score_GNB = metrics.f1_score(y_test, y_pred_test_GNB, average='macro')\n",
    "f1_score_GNB"
   ]
  },
  {
   "cell_type": "code",
   "execution_count": 35,
   "id": "0826aeea",
   "metadata": {},
   "outputs": [
    {
     "name": "stdout",
     "output_type": "stream",
     "text": [
      "Multinomial NB Classifier Training time: 3.34 s ± 189 ms per loop (mean ± std. dev. of 7 runs, 1 loop each)\n"
     ]
    }
   ],
   "source": [
    "#Train a Multinomial Naive Bayes model \n",
    "model = MultinomialNB(alpha=0.2)\n",
    "\n",
    "#Fitting\n",
    "model.fit(X_train_kbest, y_train)\n",
    "run_time = %timeit -q -o model.fit(X_train_kbest, y_train)\n",
    "\n",
    "#Validate\n",
    "y_pred_MNB = model.predict(X_test_kbest)\n",
    "\n",
    "print(\"Multinomial NB Classifier Training time:\", run_time )"
   ]
  },
  {
   "cell_type": "code",
   "execution_count": 39,
   "id": "2e55504b",
   "metadata": {},
   "outputs": [
    {
     "data": {
      "text/plain": [
       "0.9986328472875805"
      ]
     },
     "metadata": {},
     "output_type": "display_data"
    },
    {
     "data": {
      "text/plain": [
       "0.9986363636363637"
      ]
     },
     "metadata": {},
     "output_type": "display_data"
    }
   ],
   "source": [
    "# Generate predictions from test data using Gaussian Naive Bayes model\n",
    "y_pred_MNB1 = model.predict(test_features_kbest)\n",
    "\n",
    "#f1 score on train\n",
    "f1_score = metrics.f1_score(y_test, y_pred_MNB, average='macro')\n",
    "display(f1_score)\n",
    "#Accuracy\n",
    "accuracy  = metrics.accuracy_score(y_test, y_pred_MNB)\n",
    "display(accuracy)"
   ]
  },
  {
   "cell_type": "code",
   "execution_count": 33,
   "id": "b255723f",
   "metadata": {},
   "outputs": [],
   "source": [
    "#Creating a submission\n",
    "\n",
    "submission_df = pd.DataFrame({\"index\": test_df['index'],\n",
    "    \"lang_id\": y_pred_MNB1})\n",
    "submission_df.to_csv('submissionMNBfinal.csv', index=False)"
   ]
  },
  {
   "cell_type": "code",
   "execution_count": 34,
   "id": "780fd9fd",
   "metadata": {},
   "outputs": [
    {
     "data": {
      "text/html": [
       "<div>\n",
       "<style scoped>\n",
       "    .dataframe tbody tr th:only-of-type {\n",
       "        vertical-align: middle;\n",
       "    }\n",
       "\n",
       "    .dataframe tbody tr th {\n",
       "        vertical-align: top;\n",
       "    }\n",
       "\n",
       "    .dataframe thead th {\n",
       "        text-align: right;\n",
       "    }\n",
       "</style>\n",
       "<table border=\"1\" class=\"dataframe\">\n",
       "  <thead>\n",
       "    <tr style=\"text-align: right;\">\n",
       "      <th></th>\n",
       "      <th>index</th>\n",
       "      <th>lang_id</th>\n",
       "    </tr>\n",
       "  </thead>\n",
       "  <tbody>\n",
       "    <tr>\n",
       "      <th>0</th>\n",
       "      <td>1</td>\n",
       "      <td>tsn</td>\n",
       "    </tr>\n",
       "    <tr>\n",
       "      <th>1</th>\n",
       "      <td>2</td>\n",
       "      <td>nbl</td>\n",
       "    </tr>\n",
       "    <tr>\n",
       "      <th>2</th>\n",
       "      <td>3</td>\n",
       "      <td>ven</td>\n",
       "    </tr>\n",
       "    <tr>\n",
       "      <th>3</th>\n",
       "      <td>4</td>\n",
       "      <td>ssw</td>\n",
       "    </tr>\n",
       "    <tr>\n",
       "      <th>4</th>\n",
       "      <td>5</td>\n",
       "      <td>afr</td>\n",
       "    </tr>\n",
       "  </tbody>\n",
       "</table>\n",
       "</div>"
      ],
      "text/plain": [
       "   index lang_id\n",
       "0      1     tsn\n",
       "1      2     nbl\n",
       "2      3     ven\n",
       "3      4     ssw\n",
       "4      5     afr"
      ]
     },
     "execution_count": 34,
     "metadata": {},
     "output_type": "execute_result"
    }
   ],
   "source": [
    "sub_temp = pd.read_csv('submissionMNBFinal.csv')\n",
    "sub_temp.head()"
   ]
  },
  {
   "cell_type": "markdown",
   "id": "f738b0f4",
   "metadata": {},
   "source": [
    "### Model Selection & Explanation"
   ]
  },
  {
   "cell_type": "markdown",
   "id": "65de066e",
   "metadata": {},
   "source": [
    "The Multinomial Naive Bayes will be selected for the purpose of this exercise, based on the models that have been tried for the following reasons:\n",
    "\n",
    "- Prediction on the train dataset and the unseen data gave a better f1 score.\n",
    "- Run time was lower, which indicates a lower computing requirement and speed of processing.\n",
    "- Being a probability algorithm, it is simple to implement and pretty straight-forward.\n",
    "- \n",
    "\n",
    "The Multinomial Naive Bayes algorithm is a Bayesian learning approach in which a program guesses the tag of a text using the Bayes theorem. It calculates each tag's likelihood for a given sample and outputs the tag with the greatest chance.\n",
    "\n",
    "The Naive Bayes classifier is made up of a number of algorithms that all have one thing in common: each feature being classed is unrelated to any other feature. A feature's existence or absence has no bearing on the inclusion or exclusion of another feature."
   ]
  },
  {
   "cell_type": "markdown",
   "id": "e17be5a8",
   "metadata": {},
   "source": [
    "### Hyperparameter Tuning on Multinomial Naive Bayes"
   ]
  },
  {
   "cell_type": "code",
   "execution_count": 121,
   "id": "99f6015a",
   "metadata": {},
   "outputs": [],
   "source": [
    "#Hyperparameter tuning using GridSearchCV\n",
    "search_space = {\"alpha\": [0.2, 0.5, 1.0],\n",
    "                \"fit_prior\": [True, False]\n",
    "               }"
   ]
  },
  {
   "cell_type": "code",
   "execution_count": 123,
   "id": "e9053369",
   "metadata": {},
   "outputs": [],
   "source": [
    "GS = GridSearchCV(estimator = model,\n",
    "                 param_grid = search_space,\n",
    "                 scoring = \"f1\",\n",
    "                 cv = 5,\n",
    "                 verbose = 4)"
   ]
  },
  {
   "cell_type": "code",
   "execution_count": 7,
   "id": "1f72e57e",
   "metadata": {},
   "outputs": [],
   "source": [
    "GS.fit(X_train_kbest, y_train)"
   ]
  },
  {
   "cell_type": "code",
   "execution_count": 127,
   "id": "5b3a4354",
   "metadata": {},
   "outputs": [
    {
     "data": {
      "text/plain": [
       "{'alpha': 0.2, 'fit_prior': True}"
      ]
     },
     "execution_count": 127,
     "metadata": {},
     "output_type": "execute_result"
    }
   ],
   "source": [
    "GS.best_params_"
   ]
  },
  {
   "cell_type": "markdown",
   "id": "221900b2",
   "metadata": {},
   "source": [
    "### Versioning Experiments on Comet"
   ]
  },
  {
   "cell_type": "code",
   "execution_count": 41,
   "id": "7d1e61de",
   "metadata": {},
   "outputs": [],
   "source": [
    "#Logging results to comet --- Create a dictionary for the data to be logged\n",
    "\n",
    "params = {\"random_state\": 50,\n",
    "         \"model_type\": \"Multinomial NB\",\n",
    "         \"scaler\": \"None\"\n",
    "         }\n",
    "\n",
    "metrics = {\"Accuracy\": accuracy,\n",
    "          \"f1\": f1_score,\n",
    "          }"
   ]
  },
  {
   "cell_type": "code",
   "execution_count": 42,
   "id": "63e1b187",
   "metadata": {},
   "outputs": [],
   "source": [
    "#Log parameters and results\n",
    "experiment.log_parameters(params)\n",
    "experiment.log_metrics(metrics)"
   ]
  },
  {
   "cell_type": "code",
   "execution_count": 43,
   "id": "6a52f950",
   "metadata": {},
   "outputs": [
    {
     "name": "stderr",
     "output_type": "stream",
     "text": [
      "COMET INFO: ---------------------------\n",
      "COMET INFO: Comet.ml Experiment Summary\n",
      "COMET INFO: ---------------------------\n",
      "COMET INFO:   Data:\n",
      "COMET INFO:     display_summary_level : 1\n",
      "COMET INFO:     url                   : https://www.comet.ml/michaelomosebi/sa-lang-classification/9e8fb032e6da4eb49238a6cf933f774c\n",
      "COMET INFO:   Metrics:\n",
      "COMET INFO:     Accuracy : 0.9986363636363637\n",
      "COMET INFO:     f1       : 0.9986328472875805\n",
      "COMET INFO:   Parameters:\n",
      "COMET INFO:     model_type   : Multinomial NB\n",
      "COMET INFO:     random_state : 50\n",
      "COMET INFO:     scaler       : None\n",
      "COMET INFO:   Uploads:\n",
      "COMET INFO:     conda-environment-definition : 1\n",
      "COMET INFO:     conda-info                   : 1\n",
      "COMET INFO:     conda-specification          : 1\n",
      "COMET INFO:     environment details          : 1\n",
      "COMET INFO:     filename                     : 1\n",
      "COMET INFO:     installed packages           : 1\n",
      "COMET INFO:     notebook                     : 1\n",
      "COMET INFO:     source_code                  : 1\n",
      "COMET INFO: ---------------------------\n",
      "COMET WARNING: Comet has disabled auto-logging functionality as it has been imported after the following ML modules: sklearn, xgboost. Metrics and hyperparameters can still be logged using comet_ml.log_metrics() and comet_ml.log_parameters()\n",
      "COMET INFO: Uploading metrics, params, and assets to Comet before program termination (may take several seconds)\n",
      "COMET INFO: The Python SDK has 3600 seconds to finish before aborting...\n",
      "COMET INFO: Waiting for completion of the file uploads (may take several seconds)\n",
      "COMET INFO: The Python SDK has 10800 seconds to finish before aborting...\n",
      "COMET INFO: All files uploaded, waiting for confirmation they have been all received\n"
     ]
    }
   ],
   "source": [
    "experiment.end()"
   ]
  },
  {
   "cell_type": "code",
   "execution_count": null,
   "id": "d54783ef",
   "metadata": {},
   "outputs": [],
   "source": []
  }
 ],
 "metadata": {
  "kernelspec": {
   "display_name": "Python 3",
   "language": "python",
   "name": "python3"
  },
  "language_info": {
   "codemirror_mode": {
    "name": "ipython",
    "version": 3
   },
   "file_extension": ".py",
   "mimetype": "text/x-python",
   "name": "python",
   "nbconvert_exporter": "python",
   "pygments_lexer": "ipython3",
   "version": "3.8.8"
  }
 },
 "nbformat": 4,
 "nbformat_minor": 5
}
